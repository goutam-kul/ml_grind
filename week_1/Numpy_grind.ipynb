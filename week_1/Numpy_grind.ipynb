{
  "nbformat": 4,
  "nbformat_minor": 0,
  "metadata": {
    "colab": {
      "provenance": []
    },
    "kernelspec": {
      "name": "python3",
      "display_name": "Python 3"
    },
    "language_info": {
      "name": "python"
    }
  },
  "cells": [
    {
      "cell_type": "code",
      "source": [
        "import numpy as np"
      ],
      "metadata": {
        "id": "csvrHVlf3_vL"
      },
      "execution_count": 3,
      "outputs": []
    },
    {
      "cell_type": "markdown",
      "source": [
        "# Arrays in Numpy"
      ],
      "metadata": {
        "id": "9TRJnUqD35rC"
      }
    },
    {
      "cell_type": "markdown",
      "source": [
        "## _np.zeros()_"
      ],
      "metadata": {
        "id": "83CuOLXz5jQu"
      }
    },
    {
      "cell_type": "code",
      "source": [
        "# array of zeros\n",
        "zeros = np.zeros(10)\n",
        "zeros"
      ],
      "metadata": {
        "id": "GXwCaHqQ1Nt2",
        "colab": {
          "base_uri": "https://localhost:8080/"
        },
        "outputId": "81e42f88-c3bc-4763-f9f5-fba1928020db"
      },
      "execution_count": 4,
      "outputs": [
        {
          "output_type": "execute_result",
          "data": {
            "text/plain": [
              "array([0., 0., 0., 0., 0., 0., 0., 0., 0., 0.])"
            ]
          },
          "metadata": {},
          "execution_count": 4
        }
      ]
    },
    {
      "cell_type": "markdown",
      "source": [
        "## _np.ones()_"
      ],
      "metadata": {
        "id": "L3KzzXjz5k71"
      }
    },
    {
      "cell_type": "code",
      "source": [
        "# array of ones\n",
        "ones = np.ones(10)\n",
        "ones"
      ],
      "metadata": {
        "colab": {
          "base_uri": "https://localhost:8080/"
        },
        "id": "yQeunAG94E1n",
        "outputId": "78864593-5751-4010-eaa8-f9f8339191f2"
      },
      "execution_count": 5,
      "outputs": [
        {
          "output_type": "execute_result",
          "data": {
            "text/plain": [
              "array([1., 1., 1., 1., 1., 1., 1., 1., 1., 1.])"
            ]
          },
          "metadata": {},
          "execution_count": 5
        }
      ]
    },
    {
      "cell_type": "markdown",
      "source": [
        "## np.full()"
      ],
      "metadata": {
        "id": "pSDKUuay5l7V"
      }
    },
    {
      "cell_type": "code",
      "source": [
        "# np.full to create an array of certain size with specified element.\n",
        "full = np.full(10, 3)\n",
        "full"
      ],
      "metadata": {
        "colab": {
          "base_uri": "https://localhost:8080/"
        },
        "id": "g05mnz5r4MNn",
        "outputId": "6b2c9391-a9c2-4a1f-c647-f54b485f8133"
      },
      "execution_count": 6,
      "outputs": [
        {
          "output_type": "execute_result",
          "data": {
            "text/plain": [
              "array([3, 3, 3, 3, 3, 3, 3, 3, 3, 3])"
            ]
          },
          "metadata": {},
          "execution_count": 6
        }
      ]
    },
    {
      "cell_type": "markdown",
      "source": [
        "## np.repeat()"
      ],
      "metadata": {
        "id": "j_l79PdF5nV8"
      }
    },
    {
      "cell_type": "code",
      "source": [
        "# Similar function can be achieved using np.repeat\n",
        "repeat = np.repeat(3, 10)\n",
        "repeat"
      ],
      "metadata": {
        "colab": {
          "base_uri": "https://localhost:8080/"
        },
        "id": "2wILkfKu4X3A",
        "outputId": "7121efea-cb9f-4f67-d4e6-5f3de496c7f7"
      },
      "execution_count": 7,
      "outputs": [
        {
          "output_type": "execute_result",
          "data": {
            "text/plain": [
              "array([3, 3, 3, 3, 3, 3, 3, 3, 3, 3])"
            ]
          },
          "metadata": {},
          "execution_count": 7
        }
      ]
    },
    {
      "cell_type": "code",
      "source": [
        "# Repeat can be used to pass multiple elements\n",
        "array = np.repeat([0.0, 1.0], 5) # each element repeats 5 times\n",
        "array"
      ],
      "metadata": {
        "colab": {
          "base_uri": "https://localhost:8080/"
        },
        "id": "EHHHowSV4vaq",
        "outputId": "943bfd13-5b45-4dd5-bab9-91df096e0809"
      },
      "execution_count": 8,
      "outputs": [
        {
          "output_type": "execute_result",
          "data": {
            "text/plain": [
              "array([0., 0., 0., 0., 0., 1., 1., 1., 1., 1.])"
            ]
          },
          "metadata": {},
          "execution_count": 8
        }
      ]
    },
    {
      "cell_type": "code",
      "source": [
        "array = np.repeat([1, 2], [2, 4])  # 1 is repeated twice, 2 is repeated 4 times.\n",
        "array"
      ],
      "metadata": {
        "colab": {
          "base_uri": "https://localhost:8080/"
        },
        "id": "CplH9D0G49x3",
        "outputId": "867f79eb-b32b-4df6-94a4-2b616b22bf8b"
      },
      "execution_count": 9,
      "outputs": [
        {
          "output_type": "execute_result",
          "data": {
            "text/plain": [
              "array([1, 1, 2, 2, 2, 2])"
            ]
          },
          "metadata": {},
          "execution_count": 9
        }
      ]
    },
    {
      "cell_type": "code",
      "source": [
        "array[1]  # Access array element"
      ],
      "metadata": {
        "id": "G2i1sYS75a_Y",
        "colab": {
          "base_uri": "https://localhost:8080/"
        },
        "outputId": "e958ae53-f6ad-41c1-ffcb-1d0a5b387f3d"
      },
      "execution_count": 10,
      "outputs": [
        {
          "output_type": "execute_result",
          "data": {
            "text/plain": [
              "np.int64(1)"
            ]
          },
          "metadata": {},
          "execution_count": 10
        }
      ]
    },
    {
      "cell_type": "markdown",
      "source": [
        "## Make array from list of elements _np.array()_"
      ],
      "metadata": {
        "id": "PwQmrZ0twX6D"
      }
    },
    {
      "cell_type": "code",
      "source": [
        "elements = [1, 2, 3, 4, 5]\n",
        "np.array(elements)"
      ],
      "metadata": {
        "colab": {
          "base_uri": "https://localhost:8080/"
        },
        "id": "3R0uJji3wP7O",
        "outputId": "e4388b8f-65f5-4580-c148-47b7ecd02118"
      },
      "execution_count": 11,
      "outputs": [
        {
          "output_type": "execute_result",
          "data": {
            "text/plain": [
              "array([1, 2, 3, 4, 5])"
            ]
          },
          "metadata": {},
          "execution_count": 11
        }
      ]
    },
    {
      "cell_type": "markdown",
      "source": [
        "## _np.arange()_ (similar to python range)"
      ],
      "metadata": {
        "id": "QjpzdR6zwj3V"
      }
    },
    {
      "cell_type": "code",
      "source": [
        "np.arange(10) # Prints 10 values starting from 0"
      ],
      "metadata": {
        "colab": {
          "base_uri": "https://localhost:8080/"
        },
        "id": "evztPJY7wgI8",
        "outputId": "b27ac9a8-165c-4b2b-f3d7-9a836b599b26"
      },
      "execution_count": 12,
      "outputs": [
        {
          "output_type": "execute_result",
          "data": {
            "text/plain": [
              "array([0, 1, 2, 3, 4, 5, 6, 7, 8, 9])"
            ]
          },
          "metadata": {},
          "execution_count": 12
        }
      ]
    },
    {
      "cell_type": "markdown",
      "source": [
        "## _np.linspace()_"
      ],
      "metadata": {
        "id": "htIkLxwJxJDT"
      }
    },
    {
      "cell_type": "code",
      "source": [
        "# A range of evenly spaces values within upper and lower bounds\n",
        "np.linspace(start=0, stop=10, num=11)"
      ],
      "metadata": {
        "colab": {
          "base_uri": "https://localhost:8080/"
        },
        "id": "CqIijEWEw0Da",
        "outputId": "bfd46872-5642-4006-dd2e-7a8b4331298c"
      },
      "execution_count": 13,
      "outputs": [
        {
          "output_type": "execute_result",
          "data": {
            "text/plain": [
              "array([ 0.,  1.,  2.,  3.,  4.,  5.,  6.,  7.,  8.,  9., 10.])"
            ]
          },
          "metadata": {},
          "execution_count": 13
        }
      ]
    },
    {
      "cell_type": "markdown",
      "source": [
        "# Numpy Data Types\n",
        "- Python lists are not type constraint, they can store any data type. This is not the same with **numpy arrays**. In Numpy arrays all elements of an array must be of the same type.\n",
        "These are called _dtypes_.\n",
        "\n",
        "There are four broad categories of dtypes\n",
        "- __Unsigned int(uint)__ - always positive integers\n",
        "- __Signed int(int)__ - positive or negative integers\n",
        "- __Floats(float)__ - real numbers\n",
        "- __Boolean(bool)__ - True and False values\n",
        "\n",
        "There are multiple variation of each dtype depending on the number of bits used for their represetation.\n",
        "E.g., $ {\\tt uint8, unit16, uint32, uint64}$\n",
        "\n",
        "In case of floats, we have only three types:\n",
        "${\\tt float16, float32, float64}$\n",
        "\n",
        "```\n",
        "Note: In Numpy, default dtype is 64 bit (8 bytes), depending on precision required we can downgrade the dtype to 32 to consume twice as less memory, making the algorithm run faster.\n",
        "```\n",
        "\n",
        "\n",
        "For more understanding on dtypes: https://docs.scipy.org/doc/numpy-1.13.0/user/basics.types.html"
      ],
      "metadata": {
        "id": "lz79H8RU4Z5t"
      }
    },
    {
      "cell_type": "code",
      "source": [
        "# np.zeros with dtype parameter\n",
        "zeros = np.zeros(10, dtype=np.uint8)\n",
        "zeros"
      ],
      "metadata": {
        "colab": {
          "base_uri": "https://localhost:8080/"
        },
        "id": "hQy8Ph3xxgVi",
        "outputId": "f596692a-bb92-4d27-9cb2-455094206f79"
      },
      "execution_count": 14,
      "outputs": [
        {
          "output_type": "execute_result",
          "data": {
            "text/plain": [
              "array([0, 0, 0, 0, 0, 0, 0, 0, 0, 0], dtype=uint8)"
            ]
          },
          "metadata": {},
          "execution_count": 14
        }
      ]
    },
    {
      "cell_type": "markdown",
      "source": [
        "`\n",
        "Warning: Do mind if that if the utilized dtype is lower than the precision required. Numpy will throw out of bounds error.\n",
        "`"
      ],
      "metadata": {
        "id": "d2UcoifC8yx6"
      }
    },
    {
      "cell_type": "code",
      "source": [
        "zeros[0] = 255  # Highest number using 8 bits\n",
        "print(zeros[0])\n",
        "\n",
        "# While this will throw error\n",
        "zeros[0] = 256  # out of bounds for 8 bits"
      ],
      "metadata": {
        "colab": {
          "base_uri": "https://localhost:8080/",
          "height": 193
        },
        "id": "nAJG1Ovw9AkY",
        "outputId": "30b7c6f8-7d0b-4f6d-bbe2-6e15b615a823"
      },
      "execution_count": 15,
      "outputs": [
        {
          "output_type": "stream",
          "name": "stdout",
          "text": [
            "255\n"
          ]
        },
        {
          "output_type": "error",
          "ename": "OverflowError",
          "evalue": "Python integer 256 out of bounds for uint8",
          "traceback": [
            "\u001b[0;31m---------------------------------------------------------------------------\u001b[0m",
            "\u001b[0;31mOverflowError\u001b[0m                             Traceback (most recent call last)",
            "\u001b[0;32m/tmp/ipython-input-2829960908.py\u001b[0m in \u001b[0;36m<cell line: 0>\u001b[0;34m()\u001b[0m\n\u001b[1;32m      3\u001b[0m \u001b[0;34m\u001b[0m\u001b[0m\n\u001b[1;32m      4\u001b[0m \u001b[0;31m# While this will throw error\u001b[0m\u001b[0;34m\u001b[0m\u001b[0;34m\u001b[0m\u001b[0m\n\u001b[0;32m----> 5\u001b[0;31m \u001b[0mzeros\u001b[0m\u001b[0;34m[\u001b[0m\u001b[0;36m0\u001b[0m\u001b[0;34m]\u001b[0m \u001b[0;34m=\u001b[0m \u001b[0;36m256\u001b[0m  \u001b[0;31m# out of bounds for 8 bits\u001b[0m\u001b[0;34m\u001b[0m\u001b[0;34m\u001b[0m\u001b[0m\n\u001b[0m",
            "\u001b[0;31mOverflowError\u001b[0m: Python integer 256 out of bounds for uint8"
          ]
        }
      ]
    },
    {
      "cell_type": "markdown",
      "source": [
        "# Two-Dimensional (2D) Numpy Arrays"
      ],
      "metadata": {
        "id": "VOlBXwycBycW"
      }
    },
    {
      "cell_type": "markdown",
      "source": [
        "## 2D arrays using _np.zeros(), np.ones(), np.full()_"
      ],
      "metadata": {
        "id": "102kM3LRCL35"
      }
    },
    {
      "cell_type": "code",
      "source": [
        "# define a 2d array by passing 2d shapes\n",
        "zeros = np.zeros((3, 3), dtype=np.float32)\n",
        "zeros"
      ],
      "metadata": {
        "colab": {
          "base_uri": "https://localhost:8080/"
        },
        "id": "rGU1FgwAA-ud",
        "outputId": "c9d6e4ee-e80d-4ff6-af2d-d792c7bb87d8"
      },
      "execution_count": 16,
      "outputs": [
        {
          "output_type": "execute_result",
          "data": {
            "text/plain": [
              "array([[0., 0., 0.],\n",
              "       [0., 0., 0.],\n",
              "       [0., 0., 0.]], dtype=float32)"
            ]
          },
          "metadata": {},
          "execution_count": 16
        }
      ]
    },
    {
      "cell_type": "code",
      "source": [
        "# 2d ones\n",
        "ones = np.ones((3, 3), dtype=np.uint8)\n",
        "ones"
      ],
      "metadata": {
        "colab": {
          "base_uri": "https://localhost:8080/"
        },
        "id": "pjvds-6KCGWf",
        "outputId": "4a3dc25b-90a0-4810-ef11-4e2d843aa728"
      },
      "execution_count": 17,
      "outputs": [
        {
          "output_type": "execute_result",
          "data": {
            "text/plain": [
              "array([[1, 1, 1],\n",
              "       [1, 1, 1],\n",
              "       [1, 1, 1]], dtype=uint8)"
            ]
          },
          "metadata": {},
          "execution_count": 17
        }
      ]
    },
    {
      "cell_type": "code",
      "source": [
        "# 2d fill\n",
        "full = np.full((3, 3), 2)\n",
        "full"
      ],
      "metadata": {
        "colab": {
          "base_uri": "https://localhost:8080/"
        },
        "id": "J4QqLyPfCiC-",
        "outputId": "afdb00f4-66be-4321-9d90-02e8e73f6e7d"
      },
      "execution_count": 18,
      "outputs": [
        {
          "output_type": "execute_result",
          "data": {
            "text/plain": [
              "array([[2, 2, 2],\n",
              "       [2, 2, 2],\n",
              "       [2, 2, 2]])"
            ]
          },
          "metadata": {},
          "execution_count": 18
        }
      ]
    },
    {
      "cell_type": "markdown",
      "source": [
        "## Create 2D array form list of lists"
      ],
      "metadata": {
        "id": "DnWjiDHh-s4Z"
      }
    },
    {
      "cell_type": "code",
      "source": [
        "numbers = [\n",
        "    [1, 2, 3],\n",
        "    [4, 5, 6],\n",
        "    [7, 8, 9],\n",
        "]\n",
        "\n",
        "numbers = np.array(numbers)\n",
        "numbers"
      ],
      "metadata": {
        "colab": {
          "base_uri": "https://localhost:8080/"
        },
        "id": "-IcX0lr2-bjf",
        "outputId": "b1e5b9e9-4906-4799-b04d-349a82020aad"
      },
      "execution_count": 19,
      "outputs": [
        {
          "output_type": "execute_result",
          "data": {
            "text/plain": [
              "array([[1, 2, 3],\n",
              "       [4, 5, 6],\n",
              "       [7, 8, 9]])"
            ]
          },
          "metadata": {},
          "execution_count": 19
        }
      ]
    },
    {
      "cell_type": "markdown",
      "source": [
        "## 2D array slicing"
      ],
      "metadata": {
        "id": "_f9YQ8U5_a46"
      }
    },
    {
      "cell_type": "code",
      "source": [
        "# Get element from a row and column\n",
        "print(numbers[0, 2])  # 0th row 2nd column\n",
        "numbers[0, 2] = 10\n",
        "numbers"
      ],
      "metadata": {
        "colab": {
          "base_uri": "https://localhost:8080/"
        },
        "id": "E6laVXV__dC3",
        "outputId": "a749f7d0-d92f-4827-97b8-45f3cde4f070"
      },
      "execution_count": 20,
      "outputs": [
        {
          "output_type": "stream",
          "name": "stdout",
          "text": [
            "3\n"
          ]
        },
        {
          "output_type": "execute_result",
          "data": {
            "text/plain": [
              "array([[ 1,  2, 10],\n",
              "       [ 4,  5,  6],\n",
              "       [ 7,  8,  9]])"
            ]
          },
          "metadata": {},
          "execution_count": 20
        }
      ]
    },
    {
      "cell_type": "code",
      "source": [
        "# Python list like slicing in Numpy \\\n",
        "print(numbers[:, 1])\n",
        "numbers[:2, :] # Get all exclude 2 index of row"
      ],
      "metadata": {
        "colab": {
          "base_uri": "https://localhost:8080/"
        },
        "id": "8IUx2dov_sgT",
        "outputId": "a087d91b-186d-4af6-c09e-09dc435edc27"
      },
      "execution_count": 21,
      "outputs": [
        {
          "output_type": "stream",
          "name": "stdout",
          "text": [
            "[2 5 8]\n"
          ]
        },
        {
          "output_type": "execute_result",
          "data": {
            "text/plain": [
              "array([[ 1,  2, 10],\n",
              "       [ 4,  5,  6]])"
            ]
          },
          "metadata": {},
          "execution_count": 21
        }
      ]
    },
    {
      "cell_type": "markdown",
      "source": [
        "# Check array dimensionality _.shape()_"
      ],
      "metadata": {
        "id": "1ewfdarw-Kec"
      }
    },
    {
      "cell_type": "code",
      "source": [
        "zeros = np.zeros((2, 3), dtype=np.int32)\n",
        "print(zeros)\n",
        "print(zeros.shape)"
      ],
      "metadata": {
        "colab": {
          "base_uri": "https://localhost:8080/"
        },
        "id": "EMLgGrcdCwAH",
        "outputId": "c63757cd-3636-431d-dc4b-f02296e508c8"
      },
      "execution_count": 22,
      "outputs": [
        {
          "output_type": "stream",
          "name": "stdout",
          "text": [
            "[[0 0 0]\n",
            " [0 0 0]]\n",
            "(2, 3)\n"
          ]
        }
      ]
    },
    {
      "cell_type": "markdown",
      "source": [
        "# _.random_ in Numpy"
      ],
      "metadata": {
        "id": "D0ob2gExAhge"
      }
    },
    {
      "cell_type": "markdown",
      "source": [
        "## _.random.rand()_\n",
        "generates random numbers, uniformly distributed between 0 and 1."
      ],
      "metadata": {
        "id": "xumjW8eKBJUT"
      }
    },
    {
      "cell_type": "code",
      "source": [
        "np.random.seed(42)  # Setting a seed produces similar results each time\n",
        "arr = np.random.rand(5, 2)  # generated random number between 0 and 1 of shape (5, 2)\n",
        "arr"
      ],
      "metadata": {
        "colab": {
          "base_uri": "https://localhost:8080/"
        },
        "id": "1650swkl-8CH",
        "outputId": "0ac2af81-125e-43ac-aa54-fd40b933a150"
      },
      "execution_count": 23,
      "outputs": [
        {
          "output_type": "execute_result",
          "data": {
            "text/plain": [
              "array([[0.37454012, 0.95071431],\n",
              "       [0.73199394, 0.59865848],\n",
              "       [0.15601864, 0.15599452],\n",
              "       [0.05808361, 0.86617615],\n",
              "       [0.60111501, 0.70807258]])"
            ]
          },
          "metadata": {},
          "execution_count": 23
        }
      ]
    },
    {
      "cell_type": "markdown",
      "source": [
        "## _np.random.randn()_\n",
        "generates random numbers, from a normal distribution between with the mean of 0. The numbers closer to 0 are more likely to be generated. The generated numbers can be positive or negative.\n"
      ],
      "metadata": {
        "id": "dSSWlcUeGOde"
      }
    },
    {
      "cell_type": "code",
      "source": [
        "arr = np.random.randn(5, 2)\n",
        "arr"
      ],
      "metadata": {
        "colab": {
          "base_uri": "https://localhost:8080/"
        },
        "id": "D8BYtngzAwPL",
        "outputId": "88be2567-83db-4cb1-cc0b-e940a2de55d8"
      },
      "execution_count": 24,
      "outputs": [
        {
          "output_type": "execute_result",
          "data": {
            "text/plain": [
              "array([[-0.46947439,  0.54256004],\n",
              "       [-0.46341769, -0.46572975],\n",
              "       [ 0.24196227, -1.91328024],\n",
              "       [-1.72491783, -0.56228753],\n",
              "       [-1.01283112,  0.31424733]])"
            ]
          },
          "metadata": {},
          "execution_count": 24
        }
      ]
    },
    {
      "cell_type": "markdown",
      "source": [
        "## _np.random.randint()_\n",
        "generates uniformly distributed random numbers between 0 and 100 (exclusive)."
      ],
      "metadata": {
        "id": "RfADToi6HMhM"
      }
    },
    {
      "cell_type": "code",
      "source": [
        "randint = np.random.randint(low=0, high=100, size=(5, 2))\n",
        "randint"
      ],
      "metadata": {
        "colab": {
          "base_uri": "https://localhost:8080/"
        },
        "id": "OzA4igUBFzCK",
        "outputId": "949f4a00-4f44-41fd-e225-687d6951d54c"
      },
      "execution_count": 25,
      "outputs": [
        {
          "output_type": "execute_result",
          "data": {
            "text/plain": [
              "array([[91, 59],\n",
              "       [79, 14],\n",
              "       [61, 61],\n",
              "       [46, 61],\n",
              "       [50, 54]])"
            ]
          },
          "metadata": {},
          "execution_count": 25
        }
      ]
    },
    {
      "cell_type": "markdown",
      "source": [
        "# Numpy Operations"
      ],
      "metadata": {
        "id": "NZw-W6eNHvKO"
      }
    },
    {
      "cell_type": "code",
      "source": [
        "rng = np.arange(5)\n",
        "rng"
      ],
      "metadata": {
        "colab": {
          "base_uri": "https://localhost:8080/"
        },
        "id": "dbmDh0mEHdBx",
        "outputId": "b192d1ed-15ad-4006-f8c4-a37a28eb039a"
      },
      "execution_count": 31,
      "outputs": [
        {
          "output_type": "execute_result",
          "data": {
            "text/plain": [
              "array([0, 1, 2, 3, 4])"
            ]
          },
          "metadata": {},
          "execution_count": 31
        }
      ]
    },
    {
      "cell_type": "markdown",
      "source": [
        "## Multiplication."
      ],
      "metadata": {
        "id": "XZ9e11TzH3tk"
      }
    },
    {
      "cell_type": "code",
      "source": [
        "rng * 2"
      ],
      "metadata": {
        "colab": {
          "base_uri": "https://localhost:8080/"
        },
        "id": "VISVRQsgHy9_",
        "outputId": "ec3e98c7-9d6c-4049-82a2-cc88aa4c9231"
      },
      "execution_count": 32,
      "outputs": [
        {
          "output_type": "execute_result",
          "data": {
            "text/plain": [
              "array([0, 2, 4, 6, 8])"
            ]
          },
          "metadata": {},
          "execution_count": 32
        }
      ]
    },
    {
      "cell_type": "markdown",
      "source": [
        "## Addition"
      ],
      "metadata": {
        "id": "hGi_URormFX8"
      }
    },
    {
      "cell_type": "code",
      "source": [
        "rng + 2"
      ],
      "metadata": {
        "id": "mLtw7mpCH6u3",
        "colab": {
          "base_uri": "https://localhost:8080/"
        },
        "outputId": "a8e7acf8-b52b-481f-a5af-265141bed01b"
      },
      "execution_count": 33,
      "outputs": [
        {
          "output_type": "execute_result",
          "data": {
            "text/plain": [
              "array([2, 3, 4, 5, 6])"
            ]
          },
          "metadata": {},
          "execution_count": 33
        }
      ]
    },
    {
      "cell_type": "markdown",
      "source": [
        "## Subtraction & Division"
      ],
      "metadata": {
        "id": "2s5ZCM4bmTPW"
      }
    },
    {
      "cell_type": "code",
      "source": [
        "rng - 2"
      ],
      "metadata": {
        "colab": {
          "base_uri": "https://localhost:8080/"
        },
        "id": "YESvuYwWmIqF",
        "outputId": "f4a61838-e1a8-4867-b5ec-ee4608181e6b"
      },
      "execution_count": 34,
      "outputs": [
        {
          "output_type": "execute_result",
          "data": {
            "text/plain": [
              "array([-2, -1,  0,  1,  2])"
            ]
          },
          "metadata": {},
          "execution_count": 34
        }
      ]
    },
    {
      "cell_type": "code",
      "source": [
        "rng / 2"
      ],
      "metadata": {
        "colab": {
          "base_uri": "https://localhost:8080/"
        },
        "id": "mvsZHv5NmaVb",
        "outputId": "a9a9fb9b-3ae8-4474-8a9b-dda90f54c3da"
      },
      "execution_count": 35,
      "outputs": [
        {
          "output_type": "execute_result",
          "data": {
            "text/plain": [
              "array([0. , 0.5, 1. , 1.5, 2. ])"
            ]
          },
          "metadata": {},
          "execution_count": 35
        }
      ]
    },
    {
      "cell_type": "markdown",
      "source": [
        "## Multiple operation at once"
      ],
      "metadata": {
        "id": "TQqa1EsfmkhZ"
      }
    },
    {
      "cell_type": "code",
      "source": [
        "rng = np.arange(5)\n",
        "(rng - 1) * 3 / 2 + 1  # Notice: result is in float dtype"
      ],
      "metadata": {
        "colab": {
          "base_uri": "https://localhost:8080/"
        },
        "id": "drP1XcQ9mcgF",
        "outputId": "29b2e85b-1d70-4864-943c-9b978ea3a7c2"
      },
      "execution_count": 36,
      "outputs": [
        {
          "output_type": "execute_result",
          "data": {
            "text/plain": [
              "array([-0.5,  1. ,  2.5,  4. ,  5.5])"
            ]
          },
          "metadata": {},
          "execution_count": 36
        }
      ]
    },
    {
      "cell_type": "markdown",
      "source": [
        "## Other useful operations\n",
        "1. __np.exp()__\n",
        "2. __np.log()__\n",
        "3. __np.sqrt()__\n",
        "\n"
      ],
      "metadata": {
        "id": "S04Pk2t9nRHh"
      }
    },
    {
      "cell_type": "code",
      "source": [
        "vector = [100, 1000, 10000]\n",
        "# log can be done using log10, log2, log1p, emath.log\n",
        "np.log10(vector)"
      ],
      "metadata": {
        "colab": {
          "base_uri": "https://localhost:8080/"
        },
        "id": "Rgv-ZSL0mvW7",
        "outputId": "f5f6df1d-b4d3-4475-f0af-5b8379b55559"
      },
      "execution_count": 38,
      "outputs": [
        {
          "output_type": "execute_result",
          "data": {
            "text/plain": [
              "array([2., 3., 4.])"
            ]
          },
          "metadata": {},
          "execution_count": 38
        }
      ]
    },
    {
      "cell_type": "code",
      "source": [
        "vector = [1, 2, 3]\n",
        "np.exp(vector)"
      ],
      "metadata": {
        "colab": {
          "base_uri": "https://localhost:8080/"
        },
        "id": "33uELwFhnq67",
        "outputId": "449e30bc-1cee-4008-c462-cdbb3b818f7b"
      },
      "execution_count": 39,
      "outputs": [
        {
          "output_type": "execute_result",
          "data": {
            "text/plain": [
              "array([ 2.71828183,  7.3890561 , 20.08553692])"
            ]
          },
          "metadata": {},
          "execution_count": 39
        }
      ]
    },
    {
      "cell_type": "code",
      "source": [
        "vector = [1, 4, 9, 25]\n",
        "np.sqrt(vector)"
      ],
      "metadata": {
        "colab": {
          "base_uri": "https://localhost:8080/"
        },
        "id": "w2jocmM6oNIT",
        "outputId": "cfc2c241-9c57-402d-eaa5-b28f0dde6963"
      },
      "execution_count": 40,
      "outputs": [
        {
          "output_type": "execute_result",
          "data": {
            "text/plain": [
              "array([1., 2., 3., 5.])"
            ]
          },
          "metadata": {},
          "execution_count": 40
        }
      ]
    },
    {
      "cell_type": "markdown",
      "source": [
        "# Summarizing operations\n",
        "1. **.sum()**\n",
        "2. **.min()**\n",
        "3. **.max()**\n",
        "4. **.std()**\n"
      ],
      "metadata": {
        "id": "G3JTnadQo5-5"
      }
    },
    {
      "cell_type": "code",
      "source": [
        "pred = np.random.randint(3)\n",
        "print(pred)\n",
        "pred.sum()"
      ],
      "metadata": {
        "colab": {
          "base_uri": "https://localhost:8080/",
          "height": 193
        },
        "id": "k41S1XxdoXZO",
        "outputId": "e53c37f9-4fe6-4f40-bfc4-699ee70d7f78"
      },
      "execution_count": 45,
      "outputs": [
        {
          "output_type": "stream",
          "name": "stdout",
          "text": [
            "0\n"
          ]
        },
        {
          "output_type": "error",
          "ename": "AttributeError",
          "evalue": "'int' object has no attribute 'sum'",
          "traceback": [
            "\u001b[0;31m---------------------------------------------------------------------------\u001b[0m",
            "\u001b[0;31mAttributeError\u001b[0m                            Traceback (most recent call last)",
            "\u001b[0;32m/tmp/ipython-input-698772064.py\u001b[0m in \u001b[0;36m<cell line: 0>\u001b[0;34m()\u001b[0m\n\u001b[1;32m      1\u001b[0m \u001b[0mpred\u001b[0m \u001b[0;34m=\u001b[0m \u001b[0mnp\u001b[0m\u001b[0;34m.\u001b[0m\u001b[0mrandom\u001b[0m\u001b[0;34m.\u001b[0m\u001b[0mrandint\u001b[0m\u001b[0;34m(\u001b[0m\u001b[0;36m3\u001b[0m\u001b[0;34m)\u001b[0m\u001b[0;34m\u001b[0m\u001b[0;34m\u001b[0m\u001b[0m\n\u001b[1;32m      2\u001b[0m \u001b[0mprint\u001b[0m\u001b[0;34m(\u001b[0m\u001b[0mpred\u001b[0m\u001b[0;34m)\u001b[0m\u001b[0;34m\u001b[0m\u001b[0;34m\u001b[0m\u001b[0m\n\u001b[0;32m----> 3\u001b[0;31m \u001b[0mpred\u001b[0m\u001b[0;34m.\u001b[0m\u001b[0msum\u001b[0m\u001b[0;34m(\u001b[0m\u001b[0;34m)\u001b[0m\u001b[0;34m\u001b[0m\u001b[0;34m\u001b[0m\u001b[0m\n\u001b[0m",
            "\u001b[0;31mAttributeError\u001b[0m: 'int' object has no attribute 'sum'"
          ]
        }
      ]
    },
    {
      "cell_type": "code",
      "source": [],
      "metadata": {
        "id": "IdOW-nK7pWzs"
      },
      "execution_count": null,
      "outputs": []
    }
  ]
}